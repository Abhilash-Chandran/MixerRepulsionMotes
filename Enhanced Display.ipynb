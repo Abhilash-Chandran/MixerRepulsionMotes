{
 "cells": [
  {
   "cell_type": "code",
   "execution_count": 3,
   "metadata": {
    "collapsed": true
   },
   "outputs": [],
   "source": [
    "cocurrent'vts' NB. Set the defining locale as vts\n",
    "\n",
    "NB. SVG Object builders dyad - x are attributes, y is content\n",
    "svgh=: (<'<svg '),[,(<'xmlns=\"http://www.w3.org/2000/svg\" xmlns:xlink=\"http://www.w3.org/1999/xlink\" >'),(<'</svg>'),~]\n",
    "svg=:  (''&$: : ((<'<svg '),[,(<'>'),(<'</svg>'),~]))\"1\n",
    "g=:  (''&$: : ((<'<g '),[,(<'>'),(<'</g>'),~]))\"1\n",
    "text=:  (''&$: : ((<'<text '),[,(<'>'),(<'</text>'),~]))\"1\n",
    "tspan=:  (''&$: : ((<'<tspan '),[,(<'>'),(<'</tspan>'),~]))\"1\n",
    "rect=: (''&$: : ((<'<rect '),[,(<'>'),(<'</rect>'),~]))\"1\n",
    "title=: (''&$: : ((<'<title '),[,(<'>'),(<'</title>'),~]))\"1\n",
    "atr=: (;('=\"'; ;&'\" '))\"1 NB. SVG Attribute builder dyad - x is name, y is attribute value\n",
    "NB. Specific SVG Attributes Monad - y is attribute value\n",
    "cl=: 'class'&atr\n",
    "trsfm=: 'transform'&atr\n",
    "xpos=: 'x'&atr\n",
    "ypos=: 'y'&atr\n",
    "dx=: 'dx'&atr\n",
    "dy=: 'dy'&atr\n",
    "h=: 'height'&atr\n",
    "w=: 'width'&atr\n",
    "f=: 'fill'&atr\n",
    "fo=: 'fill-opacity'&atr\n",
    "s=: 'stroke'&atr\n",
    "sw=: 'stroke-width'&atr\n",
    "rx=: 'rx'&atr\n",
    "tanc=: 'text-anchor'&atr\n",
    "of=: 'overflow'&atr\n",
    "vb=: 'viewbox'&atr\n",
    "pAR=:'preserveAspectRatio'&atr\n",
    "xsp=: 'xml:space'&atr\n",
    "NB. SVG Object conversion to string\n",
    "jvg=: ;@: (\": each)\n",
    "\n",
    "TC=:16{a. [ LT=:19{a. [ LC=:22{a. [ TT=:17{a. NB. box characters top left - lower left - left t - top t -  \n",
    "rsf=:(>:@I.@(0 1 E.' '=]),#)@({:@$ {. ,)@\": NB. eliminates spaces and blanks using first line of formatted\n",
    "rsfixlit=:(i.@{:@$@\":)`0:@.(0= #@$) NB. indices for literals\n",
    "mask=: 1#~((}:,1:)@(1 j. +/))@:(0= }. |\"0 _ >:@i.@{.)@:(*/\\.)@}:@$ NB. creates  spacing matrix used with rsfiy\n",
    "rsfiy=:18*(# i.@#)@mask NB. mask used to generate all row numbers and then eliminate spaces\n",
    "wth=:,\"1 NB. helper to build svg - use (,.@i. 5) wth i. 5 as example\n",
    "\n",
    "visual=: 3 : 0\n",
    "if. '+'= {. tempbox=. 9!:6 '' do. 9!:7 a.{~ 16+i.11 end. NB. Script relies on corner elements to parse boxes\n",
    "9!:7 tempbox [ tm=. tvsvg y  NB. generate svg then reset tempbox before displaying svg\n",
    "jhtml ,sh,jvg((w (>3{tm)),(h 5+(>7{tm)),(vb '0 -5 ', \": (>3{tm),(>7{tm)),(pAR 'xMidYMin meet'))svgh tm\n",
    ")\n",
    "\n",
    "tvsvg=: 3 : 0\n",
    "0 0 tvsvg y\n",
    ":\n",
    "Fill=.(((+ 0&=)@$ $ 0\"_)^:(0 e. $))`($: each)@.(*@L.)y NB. Fill is y filled out if there are 0's in the shape for display\n",
    "Z=.0&e. S=. $ y NB. Z flag for shapes containing zero dimensions, S is the true shape \n",
    "typ=.>(-.Z){'z'; 'blifcxer  blifcxsu' {~ 2^.3!:0  y [ vals=. ,. , \":  each Fill\n",
    "tm=.' ' [ xc=. ,. {.\"1 xyc [ yc=. ,. {:\"1 xyc [ xyc=.(x +\"1 >@,@|:@{ @((9.59*(rsf`rsfixlit @.(typ e. 'lu')));rsfiy))Fill\n",
    "select. typ\n",
    "case.'l' do.  tm=.((xpos xc)wth(ypos yc)wth(w 9.59)wth(h 17)wth(f '#004225')wth(s 'black')wth(sw 1))rect a: NB. green background of literals\n",
    "              tt=.title (<'ASCII: ')wth \":@(a.& i.) each vals\n",
    "              tm=. g tm wth tt wth((xpos 4.8+xc)wth(ypos 12.75+yc)wth(cl typ)wth(xsp 'preserve')wth(tanc 'middle')) text  vals \n",
    "case. 'u' do. tm=.(<'<text x=\"')wth(4.8&+ each xc)wth(<'\" y=\"')wth(12.75&+ each yc)wth(<'\" class=\"')wth(<typ)wth(<'\"  xml:space=\"preserve\" text-anchor=\"middle\" >')wth (7&u: each vals) wth(<'</text></g>')\n",
    "case. 'x' do. tm=. Fill boxsvg y  \n",
    "case.     do. if. (typer=.('fcr'i.typ){'ejr ')~:' 'do. vals=. (>vals) <@rplc\"1 typer ; jvg (cl typer,'a')tspan <typer end.\n",
    "              tm=.((xpos xc)wth(ypos 12 + yc)wth(w xc)wth(h '15.4')wth(cl typ)wth(tanc 'end'))text vals \n",
    "              end.\n",
    "tt=. title ((<'Shape: ')wth ((''-:$ y){'atom';~(\":$y))wth(<CR)wth (<'Type: ')wth( <(datatype y),' ',(>Z{'';'(Empty)')))wth <''\n",
    "((w vw)wth(h vh)) svg (((w vw)wth(h vh)wth(rx '4')wth(f ;(>Z{(>(1={.$y){'white';'lightgray');'#555'))wth(s (>(1={.$y){'none';'slategray'))) rect  tt) wth((of 'visible')wth(xpos 2.8)wth(ypos 2.8)wth(w vw=:(('xl'i.typ){6 10 6)+9.59 *1>.{:@$@\":Fill)wth(h vh=:(('xl'i.typ){0 8 4)+ 18 * # mz=.mask \": Fill))svg ,tm NB.title string separated to allow boxes to access info  \n",
    ")\n",
    "\n",
    "boxsvg=: 4 : 0\n",
    "Fill=.x [ ysvg=. tvsvg each  y [ ly=. > *@L. each y\n",
    "bW=.(3*<:#bw)-~ +/ bw=. 2 (-~/\\) bx=.(+ 2 * i.@ #)9.59* TT (0,I.,<:@#)@:=({:@$ {. ,)@\":Fill\n",
    "by=.(({:$y) #\"_1 ,.) ,}:\"1 a=.(]\\~ ((-@( */@(_2&}.))$y)%~#)) (rsfiy \":Fill) #~  +/(TC,LT,LC) =/,({.\"1)@:\":Fill\n",
    "bH=.(2.1*<:#bh)-~ # mask \":Fill [bh=.({:@$y)#\"_1 ,., 2-~/\\\"1 a\n",
    "if.''-:$y do. bx=.by=.0 [bh=.18*<:bH [bw=.bW else. 'bx bw bh by'=. ($y)&$@, each (}:(- (2.1*i.@#))bx) ; bw ; bh ;(- (2*i.@#)) by end.\n",
    "tm=.<(((($ y),{:@$) $ ,)}:\"1((xpos ,. , 2+ly*3.5)wth(ypos ,. , 6.5+ly*7.75)wth(w ,. , bw)wth(h ,. , bh)) svg a:) wth >42&}.\"1 each ysvg\n",
    "tm=.((((($ y),{:@$) $ ,)_3}.\"1((w ,. ,bw)wth(h ,. ,bh)wth(cl 'x')wth(_2}.f a:))rect a:)wth (>17{.\"1 each 25}.\"1 each ysvg)) wth >tm\n",
    "((w bW)wth(h bH)) svg (((($ y),{:@$) $ ,)(xpos ,. ,bx)wth(ypos ,. ,by)wth(w ,. ,bw)wth(h ,. ,bh)) svg tm\n",
    ")\n",
    "\n",
    "v_z_=:visual_vts_\n",
    "\n",
    "sh=: 0 : 0\n",
    "<style type=\"text/css\">\n",
    " svg {overflow:visible;}\n",
    " text { font-family:\"courier new\"; font-weight:bold; stroke-width:0.75; stroke:black; pointer-events: none;}\n",
    " *.log  {font-weight:normal;} \n",
    " .f  { fill:#0000ff; stroke-width:0.5;} \n",
    " .e  { fill:slategray; stroke-width:0.4;} \n",
    " .l  { fill:gold; stroke:none; pointer-events: none; } \n",
    " .x  { stroke:black; stroke-width:1.1;} \n",
    " .b , .ja , .ea { fill:white; stroke:black; stroke-width:1;} \n",
    " .i  { font-weight:normal; stroke:none;} \n",
    " .r  { fill:black; stroke-width:0.2; } \n",
    " .u  { fill:gold; stroke-width:1; stroke:darkred; pointer-events: none; } \n",
    " .ra { fill: #ff5577; stroke-width:1;}\n",
    " .c  { font-style: italic; fill: #004400; stroke:none; } \n",
    " .z  { font-family:consolas; fill:white; stroke-width:0.25; stroke:white;  pointer-events: none;} \n",
    " rect:hover  {fill:#aa77aa; transition: all 1.5s ease-in-out; }\n",
    "</style>\n",
    ")\n",
    "NB. test=: test3_vts_;test2_vts_;] NB. to be put into and run from base locale\n",
    " test0=: 2 2 0$'4'\n",
    " test1=: 2 2 2 $ ('abcdefghi';(x: % i. 5));(,.1 0 2 1 0);(,3.4e_17);i.20\n",
    " test2=: (3 0 $ 5);1;(1$2);(3 1$3.2); (2 1$4j1);(1 1$5); (2 1 2$'6');(1 1 2$7);(2 1 1$8x);(x: 2 2 2$%9)\n",
    " test3=: 2 2 2 $ ('1 1r2 1r3';(x: % i. 5));3j4;(5 0$1 0 1 1 0);3.4e_17;'2';i.2 3\n",
    " test4=: 2 2 $(2 0 $ '5');( 0 3$ 5.4);(0 3 2$ 56x);(3 0 2 $ 5r3)\n",
    " test5=:1;'2';({. 3 2j4);({. 4 2.4);({. 5 2x);({. 6 2r5);({. 7 24);(,8);(1 1$'9');('1',u: 48)\n",
    " \n"
   ]
  },
  {
   "cell_type": "code",
   "execution_count": 4,
   "metadata": {
    "collapsed": false
   },
   "outputs": [
    {
     "name": "stdout",
     "output_type": "stream",
     "text": [
      "JKernel: Internal Error.\n",
      "[Errno 2] No such file or directory: 'c:\\\\users\\\\dane\\\\j64-804-user\\\\temp\\\\plot.html'\n"
     ]
    }
   ],
   "source": [
    "v i. 2"
   ]
  },
  {
   "cell_type": "code",
   "execution_count": null,
   "metadata": {
    "collapsed": true
   },
   "outputs": [],
   "source": []
  }
 ],
 "metadata": {
  "kernelspec": {
   "display_name": "J",
   "language": "J",
   "name": "jkernel"
  },
  "language_info": {
   "file_extension": "ijs",
   "mimetype": "text/x-J",
   "name": "J"
  }
 },
 "nbformat": 4,
 "nbformat_minor": 0
}
