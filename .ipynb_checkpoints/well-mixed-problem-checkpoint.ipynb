{
 "cells": [
  {
   "cell_type": "markdown",
   "metadata": {},
   "source": [
    "# Well-Mixed Problem\n",
    "\n",
    "What is the opposite of a sorted list? Unsorted? Random order? Or what I call \"well-mixed\"? In the end, I define \"well-mixed\" to mean that all contiguous samples are as representative of the entire population as possible. In the simplest case, a population composed equally of `0` and `1` is well-mixed when it is in alternating sequence (`0 1 0 1 0 1 0 1 0 1 ...`). No matter where you start and end, your sample will be as representative of the entire population as possible."
   ]
  },
  {
   "cell_type": "markdown",
   "metadata": {},
   "source": [
    "## Alternative Solutions\n",
    "\n",
    "My sister asked me help her with what first seemed like a simple task: take a large group of volunteers and divide them into teams that were well-mixed: there should be experienced people on the same teams as first-timers; people from the same locale should be split up; boys and girls should be equally represented; and we don't want a given team to be overly young or overly old."
   ]
  },
  {
   "cell_type": "code",
   "execution_count": 2,
   "metadata": {
    "collapsed": false
   },
   "outputs": [
    {
     "name": "stdout",
     "output_type": "stream",
     "text": [
      "+-------+-------+-------+-------+\n",
      "|0 0 2 2|3 3 3 4|4 4 6 6|6 8 8 9|\n",
      "+-------+-------+-------+-------+\n"
     ]
    }
   ],
   "source": [
    "[ list =: /:~ 6 3 6 4 2 0 8 3 4 6 2 0 3 9 8 4\n",
    "[ worstTeams =: <\"1 (4 4) $ list"
   ]
  },
  {
   "cell_type": "markdown",
   "metadata": {},
   "source": [
    "### Counting Off\n",
    "With one or two traits, you can sort the elements and drop them into teams to get something that's relatively well-mixed."
   ]
  },
  {
   "cell_type": "code",
   "execution_count": 3,
   "metadata": {
    "collapsed": false
   },
   "outputs": [
    {
     "name": "stdout",
     "output_type": "stream",
     "text": [
      "+-------+-------+-------+-------+\n",
      "|0 3 4 6|0 3 4 8|2 3 6 8|2 4 6 9|\n",
      "+-------+-------+-------+-------+\n"
     ]
    }
   ],
   "source": [
    "[ countOffTeams =: <\"1 |: 4 4 $ list"
   ]
  },
  {
   "cell_type": "markdown",
   "metadata": {},
   "source": [
    "You might notice that the mean value of the teams is ascending, although not as bad as the worst team division."
   ]
  },
  {
   "cell_type": "code",
   "execution_count": 4,
   "metadata": {
    "collapsed": false
   },
   "outputs": [
    {
     "name": "stdout",
     "output_type": "stream",
     "text": [
      "+----+----+----+----+\n",
      "|3.25|3.75|4.75|5.25|\n",
      "+----+----+----+----+\n"
     ]
    }
   ],
   "source": [
    "(Mean =: +/ % #) each countOffTeams"
   ]
  },
  {
   "cell_type": "code",
   "execution_count": 5,
   "metadata": {
    "collapsed": false
   },
   "outputs": [
    {
     "name": "stdout",
     "output_type": "stream",
     "text": [
      "+-+----+-+----+\n",
      "|1|3.25|5|7.75|\n",
      "+-+----+-+----+\n"
     ]
    }
   ],
   "source": [
    "(Mean =: +/ % #) each worstTeams"
   ]
  },
  {
   "cell_type": "markdown",
   "metadata": {},
   "source": [
    "### Random\n",
    "Another thought is to just make random assignments."
   ]
  },
  {
   "cell_type": "code",
   "execution_count": 6,
   "metadata": {
    "collapsed": false
   },
   "outputs": [
    {
     "name": "stdout",
     "output_type": "stream",
     "text": [
      "+-------+-------+-------+-------+\n",
      "|4 0 3 9|6 6 3 0|2 6 3 4|8 4 8 2|\n",
      "+-------+-------+-------+-------+\n"
     ]
    }
   ],
   "source": [
    "[ randomTeams =: _4 <\\ (Randomize =: ] /: [:?. 0 $~ $) list"
   ]
  },
  {
   "cell_type": "code",
   "execution_count": 7,
   "metadata": {
    "collapsed": false
   },
   "outputs": [
    {
     "name": "stdout",
     "output_type": "stream",
     "text": [
      "+-+----+----+---+\n",
      "|4|3.75|3.75|5.5|\n",
      "+-+----+----+---+\n"
     ]
    }
   ],
   "source": [
    "Mean each randomTeams"
   ]
  },
  {
   "cell_type": "code",
   "execution_count": 8,
   "metadata": {
    "collapsed": false
   },
   "outputs": [
    {
     "name": "stdout",
     "output_type": "stream",
     "text": [
      "4.25\n"
     ]
    }
   ],
   "source": [
    "Mean list"
   ]
  },
  {
   "cell_type": "markdown",
   "metadata": {},
   "source": [
    "Random assignment is just that: random. We introduced new problems, such as two teams that have doubled up on a number (`6` and `8`), which I call \"lumpiness,\" and one team having both the smallest and largest numbers.\n",
    "\n",
    "### Paired Off\n",
    "This last point applies to another simple solution that addresses the team means and lumpiness, but not the problem of pairing extremes."
   ]
  },
  {
   "cell_type": "code",
   "execution_count": 9,
   "metadata": {
    "collapsed": false
   },
   "outputs": [
    {
     "name": "stdout",
     "output_type": "stream",
     "text": [
      "0 9\n",
      "0 8\n",
      "2 8\n",
      "2 6\n",
      "3 6\n",
      "3 6\n",
      "3 4\n",
      "4 4\n"
     ]
    }
   ],
   "source": [
    "[ pairup =: ((Top =: 3 : '(-: # y) {. y') list) ,. (ReverseTail =: 3 : '|. (-: # y) }. y') list"
   ]
  },
  {
   "cell_type": "code",
   "execution_count": 10,
   "metadata": {
    "collapsed": false
   },
   "outputs": [
    {
     "name": "stdout",
     "output_type": "stream",
     "text": [
      "+-------+-------+-------+-------+\n",
      "|0 9 3 6|0 8 3 6|2 8 3 4|2 6 4 4|\n",
      "+-------+-------+-------+-------+\n"
     ]
    }
   ],
   "source": [
    "[ pairedOffTeams =: ,&|: each <\"2 (0) |: (2 4) $ pairup"
   ]
  },
  {
   "cell_type": "code",
   "execution_count": 11,
   "metadata": {
    "collapsed": false
   },
   "outputs": [
    {
     "name": "stdout",
     "output_type": "stream",
     "text": [
      "+---+----+----+-+\n",
      "|4.5|4.25|4.25|4|\n",
      "+---+----+----+-+\n"
     ]
    }
   ],
   "source": [
    "Mean&, each pairedOffTeams"
   ]
  },
  {
   "cell_type": "markdown",
   "metadata": {},
   "source": [
    "Only the last team is lumpy (two `4` numbers) and the means are excellent, but we've paired the extremes again. While pairing the extremes may be desirable in some circumstances, it goes against my goal and also breaks down after you add in additional traits to optimize. That is, pairing extremes translates into groupings that have standard deviations that are quite different from the population.\n",
    "\n",
    "### Standard Deviations"
   ]
  },
  {
   "cell_type": "code",
   "execution_count": 12,
   "metadata": {
    "collapsed": false
   },
   "outputs": [
    {
     "name": "stdout",
     "output_type": "stream",
     "text": [
      "+---------------------------------------------+-------+\n",
      "|Standard deviation of whole list (population)|2.63391|\n",
      "+---------------------------------------------+-------+\n"
     ]
    }
   ],
   "source": [
    "SampleVariance =: (+/@(*:@(] - +/ % #)) % #)\"1\n",
    "StandardDeviation =: %:@SampleVariance\"1\n",
    "'Standard deviation of whole list (population)' ; StandardDeviation list"
   ]
  },
  {
   "cell_type": "code",
   "execution_count": 13,
   "metadata": {
    "collapsed": false
   },
   "outputs": [
    {
     "name": "stdout",
     "output_type": "stream",
     "text": [
      "+--------------+-------+--------+-------+-------+\n",
      "|Paired-off    |3.3541 |3.03109 |2.27761|1.41421|\n",
      "+--------------+-------+--------+-------+-------+\n",
      "|Random        |3.24037|2.48747 |1.47902|2.59808|\n",
      "+--------------+-------+--------+-------+-------+\n",
      "|Count-off     |2.16506|2.86138 |2.38485|2.58602|\n",
      "+--------------+-------+--------+-------+-------+\n",
      "|Worst (sorted)|1      |0.433013|1      |1.08972|\n",
      "+--------------+-------+--------+-------+-------+\n"
     ]
    }
   ],
   "source": [
    "z =. 'Paired-off' ; StandardDeviation&, each pairedOffTeams\n",
    "z =. z ,: 'Random' ; StandardDeviation&, each randomTeams\n",
    "z =. z , 'Count-off' ; StandardDeviation&, each countOffTeams\n",
    "[ z =. z , 'Worst (sorted)' ; StandardDeviation&, each worstTeams"
   ]
  },
  {
   "cell_type": "markdown",
   "metadata": {
    "collapsed": false
   },
   "source": [
    "### Ideal\n",
    "As a reminder, my ideal is for every team (or every contiguous sample) to have the same mean as the population, and the same standard deviation."
   ]
  },
  {
   "cell_type": "code",
   "execution_count": 14,
   "metadata": {
    "collapsed": false
   },
   "outputs": [
    {
     "name": "stdout",
     "output_type": "stream",
     "text": [
      "+-----------------+-----------------------------------------------------------+\n",
      "|Mean             |0.5                                                        |\n",
      "+-----------------+-----------------------------------------------------------+\n",
      "|STD              |0.5                                                        |\n",
      "+-----------------+-----------------------------------------------------------+\n",
      "|Simple binary set|0 1 0 1 0 1 0 1 0 1 0 1 0 1 0 1 0 1 0 1 0 1 0 1 0 1 0 1 0 1|\n",
      "+-----------------+-----------------------------------------------------------+\n"
     ]
    }
   ],
   "source": [
    "3 2 $ 'Mean' ; (Mean simpleBinarySet) ; 'STD' ; (StandardDeviation simpleBinarySet) ; 'Simple binary set' ; (simpleBinarySet =: 30 $ 0 1)"
   ]
  },
  {
   "cell_type": "code",
   "execution_count": 15,
   "metadata": {
    "collapsed": false
   },
   "outputs": [
    {
     "name": "stdout",
     "output_type": "stream",
     "text": [
      "+-----------+-------+---------+---------+\n",
      "|Mean       |0.5    |0.4      |0.6      |\n",
      "+-----------+-------+---------+---------+\n",
      "|STD        |0.5    |0.489898 |0.489898 |\n",
      "+-----------+-------+---------+---------+\n",
      "|Sample sets|0 1 0 1|0 1 0 1 0|1 0 1 0 1|\n",
      "+-----------+-------+---------+---------+\n"
     ]
    }
   ],
   "source": [
    "samp1 =: 0 1 0 1\n",
    "samp2 =: 0 1 0 1 0\n",
    "samp3 =: 1 0 1 0 1\n",
    "3 4 $ 'Mean' ; (Mean samp1) ; (Mean samp2) ; (Mean samp3) ; 'STD' ; (StandardDeviation samp1) ; (StandardDeviation samp2) ; (StandardDeviation samp3) ; 'Sample sets' ; samp1 ; samp2 ; samp3"
   ]
  },
  {
   "cell_type": "markdown",
   "metadata": {},
   "source": [
    "To evaluate sets that are more messy we need to figure out how to score a given mix on how well-mixed it is. I believe that this score can be derived by comparing the standard deviation of every sample to the standard deviation of the population."
   ]
  },
  {
   "cell_type": "markdown",
   "metadata": {},
   "source": [
    "When I take every sample, I drop all samples that are the entire population and all samples that are a single member or exclude a single member."
   ]
  },
  {
   "cell_type": "code",
   "execution_count": 16,
   "metadata": {
    "collapsed": false
   },
   "outputs": [
    {
     "name": "stdout",
     "output_type": "stream",
     "text": [
      "+---+-----+-------+\n",
      "|0 1|0 1 2|0 1 2 3|\n",
      "+---+-----+-------+\n",
      "|1 2|1 2 3|1 2 3 4|\n",
      "+---+-----+-------+\n",
      "|2 3|2 3 4|2 3 4 5|\n",
      "+---+-----+-------+\n",
      "|3 4|3 4 5|3 4 5 0|\n",
      "+---+-----+-------+\n",
      "|4 5|4 5 0|4 5 0 1|\n",
      "+---+-----+-------+\n",
      "|5 0|5 0 1|5 0 1 2|\n",
      "+---+-----+-------+\n"
     ]
    }
   ],
   "source": [
    "EverySample =: 13 : '}:\"1 }:\"1 }.\"1 <\\\"1 (i. # y) |.\"0 1 y'\n",
    "EverySample i. 6"
   ]
  },
  {
   "cell_type": "markdown",
   "metadata": {},
   "source": [
    "The `SortScore` finds the standard deviation for every sample and compares to the standard deviation for the whole population. These differences are squared and summed."
   ]
  },
  {
   "cell_type": "code",
   "execution_count": 17,
   "metadata": {
    "collapsed": false
   },
   "outputs": [
    {
     "name": "stdout",
     "output_type": "stream",
     "text": [
      "[ ([: +/ [: *: StandardDeviation - [: ; [: StandardDeviation&.> EverySample)\n"
     ]
    }
   ],
   "source": [
    "[ SortScore =: 13 : '+/ *: (StandardDeviation y) - ; StandardDeviation each EverySample y'"
   ]
  },
  {
   "cell_type": "code",
   "execution_count": 18,
   "metadata": {
    "collapsed": false
   },
   "outputs": [
    {
     "name": "stdout",
     "output_type": "stream",
     "text": [
      "361.947\n"
     ]
    }
   ],
   "source": [
    "SortScore ; worstTeams"
   ]
  },
  {
   "cell_type": "code",
   "execution_count": 19,
   "metadata": {
    "collapsed": false
   },
   "outputs": [
    {
     "name": "stdout",
     "output_type": "stream",
     "text": [
      "71.9384\n"
     ]
    }
   ],
   "source": [
    "SortScore ; pairedOffTeams"
   ]
  },
  {
   "cell_type": "code",
   "execution_count": 20,
   "metadata": {
    "collapsed": false
   },
   "outputs": [
    {
     "name": "stdout",
     "output_type": "stream",
     "text": [
      "57.479\n"
     ]
    }
   ],
   "source": [
    "SortScore ; countOffTeams"
   ]
  },
  {
   "cell_type": "code",
   "execution_count": 21,
   "metadata": {
    "collapsed": false
   },
   "outputs": [
    {
     "name": "stdout",
     "output_type": "stream",
     "text": [
      "56.0931\n"
     ]
    }
   ],
   "source": [
    "SortScore ; randomTeams"
   ]
  },
  {
   "cell_type": "markdown",
   "metadata": {},
   "source": [
    "Normalizing data may let you compare sort scores between sets. Maybe."
   ]
  },
  {
   "cell_type": "code",
   "execution_count": 22,
   "metadata": {
    "collapsed": false
   },
   "outputs": [
    {
     "name": "stdout",
     "output_type": "stream",
     "text": [
      "_1.61357 _1.61357 _0.854242 _0.854242 _0.474579 _0.474579 _0.474579 _0.0949158 _0.0949158 _0.0949158 0.664411 0.664411 0.664411 1.42374 1.42374 1.8034\n"
     ]
    }
   ],
   "source": [
    "Normalize =: StandardDeviation %~ ] - Mean NB. normalTable =: Normalize\"1 inputTable\n",
    "[ normalList =: Normalize\"1 list"
   ]
  },
  {
   "cell_type": "code",
   "execution_count": 23,
   "metadata": {
    "collapsed": false
   },
   "outputs": [
    {
     "name": "stdout",
     "output_type": "stream",
     "text": [
      "52.1725\n"
     ]
    }
   ],
   "source": [
    "SortScore normalList"
   ]
  },
  {
   "cell_type": "code",
   "execution_count": 24,
   "metadata": {
    "collapsed": false
   },
   "outputs": [
    {
     "name": "stdout",
     "output_type": "stream",
     "text": [
      "0.115849\n"
     ]
    }
   ],
   "source": [
    "SortScore Normalize simpleBinarySet"
   ]
  },
  {
   "cell_type": "code",
   "execution_count": 25,
   "metadata": {
    "collapsed": false
   },
   "outputs": [
    {
     "name": "stdout",
     "output_type": "stream",
     "text": [
      "0.0289623\n"
     ]
    }
   ],
   "source": [
    "SortScore simpleBinarySet"
   ]
  },
  {
   "cell_type": "code",
   "execution_count": 26,
   "metadata": {
    "collapsed": false
   },
   "outputs": [
    {
     "name": "stdout",
     "output_type": "stream",
     "text": [
      "+-----+-----------------------------------------------------------+\n",
      "|56.03|0 0 0 0 0 0 0 0 0 0 0 0 0 0 0 1 1 1 1 1 1 1 1 1 1 1 1 1 1 1|\n",
      "+-----+-----------------------------------------------------------+\n"
     ]
    }
   ],
   "source": [
    "(SortScore ; ]) /:~ simpleBinarySet"
   ]
  },
  {
   "cell_type": "code",
   "execution_count": 27,
   "metadata": {
    "collapsed": false
   },
   "outputs": [
    {
     "name": "stdout",
     "output_type": "stream",
     "text": [
      "+------+--------------------------------------------------------------------------+\n",
      "|224.12|_1 _1 _1 _1 _1 _1 _1 _1 _1 _1 _1 _1 _1 _1 _1 1 1 1 1 1 1 1 1 1 1 1 1 1 1 1|\n",
      "+------+--------------------------------------------------------------------------+\n"
     ]
    }
   ],
   "source": [
    "(SortScore ; ]) Normalize /:~ simpleBinarySet"
   ]
  },
  {
   "cell_type": "code",
   "execution_count": 28,
   "metadata": {
    "collapsed": false
   },
   "outputs": [
    {
     "name": "stdout",
     "output_type": "stream",
     "text": [
      "52.1725\n"
     ]
    }
   ],
   "source": [
    "SortScore Normalize ; worstTeams"
   ]
  },
  {
   "cell_type": "markdown",
   "metadata": {},
   "source": [
    "## Sample Data"
   ]
  },
  {
   "cell_type": "code",
   "execution_count": 29,
   "metadata": {
    "collapsed": false
   },
   "outputs": [
    {
     "name": "stdout",
     "output_type": "stream",
     "text": [
      "+-------+-+-+-+\n",
      "|Tahnee |S|B|0|\n",
      "+-------+-+-+-+\n",
      "|Yue    |S|D|0|\n",
      "+-------+-+-+-+\n",
      "|Suzanne|S|P|1|\n",
      "+-------+-+-+-+\n",
      "|Drew   |S|P|0|\n",
      "+-------+-+-+-+\n",
      "|Malick |S|P|0|\n",
      "+-------+-+-+-+\n",
      "|Tyler  |S|P|0|\n",
      "+-------+-+-+-+\n",
      "|Matt   |S|A|1|\n",
      "+-------+-+-+-+\n",
      "|Jeff   |S|A|0|\n",
      "+-------+-+-+-+\n",
      "|Dane   |S|S|0|\n",
      "+-------+-+-+-+\n",
      "|Ryan   |Y|B|0|\n",
      "+-------+-+-+-+\n",
      "|Katy   |Y|D|0|\n",
      "+-------+-+-+-+\n",
      "|Aaron  |Y|P|1|\n",
      "+-------+-+-+-+\n",
      "|Alexis |Y|P|0|\n",
      "+-------+-+-+-+\n",
      "|Gabriel|Y|P|0|\n",
      "+-------+-+-+-+\n",
      "|Glenn  |Y|P|0|\n",
      "+-------+-+-+-+\n",
      "|Blalock|Y|P|0|\n",
      "+-------+-+-+-+\n",
      "|LauraB |Y|A|0|\n",
      "+-------+-+-+-+\n",
      "|Chris  |Y|A|0|\n",
      "+-------+-+-+-+\n",
      "|MHepp  |Y|S|0|\n",
      "+-------+-+-+-+\n",
      "|Kristin|V|B|0|\n",
      "+-------+-+-+-+\n",
      "|LauraK |V|D|0|\n",
      "+-------+-+-+-+\n",
      "|Frances|V|P|1|\n",
      "+-------+-+-+-+\n",
      "|Evan   |V|P|0|\n",
      "+-------+-+-+-+\n",
      "|Witter |V|P|0|\n",
      "+-------+-+-+-+\n",
      "|Justin |V|P|0|\n",
      "+-------+-+-+-+\n",
      "|Kevin  |V|A|0|\n",
      "+-------+-+-+-+\n",
      "|Matt   |V|A|0|\n",
      "+-------+-+-+-+\n",
      "|Rutu   |V|S|0|\n",
      "+-------+-+-+-+\n",
      "|Rachel |A|D|0|\n",
      "+-------+-+-+-+\n",
      "|Norm   |A|D|1|\n",
      "+-------+-+-+-+\n",
      "|Allison|A|B|1|\n",
      "+-------+-+-+-+\n",
      "|Reena  |A|P|1|\n",
      "+-------+-+-+-+\n",
      "|Grove  |A|S|1|\n",
      "+-------+-+-+-+\n"
     ]
    }
   ],
   "source": [
    "NB. Sample Data Set\n",
    "NB. Name\tTeam\tSAG\tSupervisor\n",
    "NB. Serenity/Velocity/Yetis/Account\n",
    "NB. BA/Design/Programming/Automation/Scrum\n",
    "itemTraits =: ;: ;._2 noun define\n",
    "Tahnee\tS\tB\t0\n",
    "Yue\tS\tD\t0\n",
    "Suzanne\tS\tP\t1\n",
    "Drew\tS\tP\t0\n",
    "Malick\tS\tP\t0\n",
    "Tyler\tS\tP\t0\n",
    "Matt\tS\tA\t1\n",
    "Jeff\tS\tA\t0\n",
    "Dane\tS\tS\t0\n",
    "Ryan\tY\tB\t0\n",
    "Katy\tY\tD\t0\n",
    "Aaron\tY\tP\t1\n",
    "Alexis\tY\tP\t0\n",
    "Gabriel\tY\tP\t0\n",
    "Glenn\tY\tP\t0\n",
    "Blalock\tY\tP\t0\n",
    "LauraB\tY\tA\t0\n",
    "Chris\tY\tA\t0\n",
    "MHepp\tY\tS\t0\n",
    "Kristin\tV\tB\t0\n",
    "LauraK\tV\tD\t0\n",
    "Frances\tV\tP\t1\n",
    "Evan\tV\tP\t0\n",
    "Witter\tV\tP\t0\n",
    "Justin\tV\tP\t0\n",
    "Kevin\tV\tA\t0\n",
    "Matt\tV\tA\t0\n",
    "Rutu\tV\tS\t0\n",
    "Rachel\tA\tD\t0\n",
    "Norm\tA\tD\t1\n",
    "Allison\tA\tB\t1\n",
    "Reena\tA\tP\t1\n",
    "Grove\tA\tS\t1\n",
    ")\n",
    "itemTraits"
   ]
  },
  {
   "cell_type": "markdown",
   "metadata": {
    "collapsed": true
   },
   "source": [
    "Convert the table of traits to a table of similarities."
   ]
  },
  {
   "cell_type": "code",
   "execution_count": 30,
   "metadata": {
    "collapsed": false
   },
   "outputs": [
    {
     "name": "stdout",
     "output_type": "stream",
     "text": [
      "0 0 0\n",
      "0 1 0\n",
      "0 2 1\n",
      "0 2 0\n",
      "0 2 0\n",
      "0 2 0\n",
      "0 3 1\n",
      "0 3 0\n",
      "0 4 0\n",
      "1 0 0\n",
      "1 1 0\n",
      "1 2 1\n",
      "1 2 0\n",
      "1 2 0\n",
      "1 2 0\n",
      "1 2 0\n",
      "1 3 0\n",
      "1 3 0\n",
      "1 4 0\n",
      "2 0 0\n",
      "2 1 0\n",
      "2 2 1\n",
      "2 2 0\n",
      "2 2 0\n",
      "2 2 0\n",
      "2 3 0\n",
      "2 3 0\n",
      "2 4 0\n",
      "3 1 0\n",
      "3 1 1\n",
      "3 0 1\n",
      "3 2 1\n",
      "3 4 1\n"
     ]
    }
   ],
   "source": [
    "Categorize =: (i.~ ~.) NB. Each value is given an integer.\n",
    "Numbers =: \".&> NB. Numbers are read from strings.\n",
    "itemTypes =: 0 0 1 NB. This correlates with the sample data. Should be set programmatically for an interactive solution.\n",
    "NB. Assuming that the first column contains ID/labels, generates numbers to describe the similarities among items.\n",
    "NB. (Sel { Av`Bv) 4 :'x@.0 y'\"0 1]) applies Av or Bv to each row based on the correlating value of Sel\n",
    "[ itemSimilarities =: ((itemTypes { Categorize`Numbers) 4 :'x@.0 y'\"0 1])&.|: }.\"1 itemTraits"
   ]
  },
  {
   "cell_type": "code",
   "execution_count": 31,
   "metadata": {
    "collapsed": true
   },
   "outputs": [],
   "source": [
    "NB. Convert to numeric array\n",
    "itemNames =: 0 {\"1 itemTraits\n",
    "itemAges =: \". > 1 {\"1 itemTraits\n",
    "itemSexes =: (i.~ ~.) 2 {\"1 itemTraits\n",
    "itemRanks =: \". > 3 {\"1 itemTraits\n",
    "idTable =: itemAges , itemSexes ,: itemRanks\n",
    "\n",
    "NB. Need to re-write the above to work more like\n",
    "NB. [ (0 1 1 2 { +:`-:`*:) 4 :'x@.0 y'\"0] i. 4 3"
   ]
  },
  {
   "cell_type": "code",
   "execution_count": null,
   "metadata": {
    "collapsed": false
   },
   "outputs": [],
   "source": []
  },
  {
   "cell_type": "code",
   "execution_count": null,
   "metadata": {
    "collapsed": false
   },
   "outputs": [],
   "source": []
  },
  {
   "cell_type": "markdown",
   "metadata": {
    "collapsed": true
   },
   "source": [
    "## TODO\n",
    "* Optimized version of the list.\n",
    "* Scoring system.\n",
    "* Work toward mixer."
   ]
  },
  {
   "cell_type": "code",
   "execution_count": 32,
   "metadata": {
    "collapsed": false
   },
   "outputs": [
    {
     "name": "stdout",
     "output_type": "stream",
     "text": [
      "20922789888000\n"
     ]
    }
   ],
   "source": [
    "(3 -~ ! 16x) A. list\n",
    "! 16x\n"
   ]
  },
  {
   "cell_type": "code",
   "execution_count": 33,
   "metadata": {
    "collapsed": true
   },
   "outputs": [],
   "source": [
    "NB. Mixing a set of items so that any contiguous sample contains the most representative possible sample\n",
    "\n",
    "NB. Statistical Definitions\n",
    "SampleVariance =: (+/@(*:@(] - +/ % #)) % #)\"1\n",
    "StandardDeviation =: %:@SampleVariance\"1\n",
    "Mean =: +/%#\n",
    "Normalize =: StandardDeviation %~ ] - Mean NB. normalTable =: Normalize\"1 idTable\n",
    "\n",
    "NB. Sample Data Set\n",
    "NB. Name\tAge\tSex\tRank\n",
    "itemTraits =: ;: ;._2 noun define\n",
    "Andy\t18\tM\t5\n",
    "Bob\t18\tM\t7\n",
    "Carl\t21\tM\t9\n",
    "Don\t29\tM\t2\n",
    "Ed\t30\tM\t4\n",
    "Frank\t31\tM\t12\n",
    "Zelda\t20\tF\t11\n",
    "Yvette\t21\tF\t10\n",
    "Xanthippe\t21\tF\t8\n",
    "Wendy\t25\tF\t6\n",
    "Violet\t30\tF\t3\n",
    "Uma\t35\tF\t1\n",
    ")\n",
    "\n",
    "NB. Convert to numeric array\n",
    "itemNames =: 0 {\"1 itemTraits\n",
    "itemAges =: \". > 1 {\"1 itemTraits\n",
    "itemSexes =: (i.~ ~.) 2 {\"1 itemTraits\n",
    "itemRanks =: \". > 3 {\"1 itemTraits\n",
    "idTable =: itemAges , itemSexes ,: itemRanks\n",
    "\n",
    "NB. Need to re-write the above to work more like\n",
    "NB. [ (0 1 1 2 { +:`-:`*:) 4 :'x@.0 y'\"0] i. 4 3\n",
    "\n",
    "NB. Find mean and standard deviation for comparison\n",
    "populationMean =: (+/ % #)\"1 idTable\n",
    "populationSTD =: StandardDeviation idTable\n",
    "\n",
    "NB. Verbs for analyzing how well-mixed the set is\n",
    "Range =: 3 : '2 }. i. <: # y' NB. The list of integers between 2 and list length minus 2\n",
    "\n",
    "Samples =: 1 : 0\n",
    "NB. This adverb will apply the verb to every size x contiguous sample of y, wrapping as necessary.\n",
    "(# y) u Samples y\n",
    ":\n",
    "x u;._3 y , y {.~ <: x\n",
    ")\n",
    "\n",
    "MeanScore =: 3 : '+/ , *: (Range y) Mean Samples\"(0 _) y' NB. use with rank 1 on a normalized table, such as meanScore\"1 normalTable\n",
    "StdScore =: 3 : '+/ , *: <: (Range y) StandardDeviation Samples\"(0 _) y' NB. use with rank 1 on a normalized table, such as stdScore\"1 normalTable\n",
    "Scores =: MeanScore\"1 ,. StdScore\"1\n",
    "\n",
    "NB. Calculate worst score\n",
    "WorstScores =: Scores /:~\"1 Normalize\"1 NB. sort each variable independently before scoring\n",
    "NB. compare to interleved sample\n",
    "interlevedTable =: (0 6 1 7 2 8 3 9 4 10 5 11) {\"1 idTable\n",
    "bestSexTable =: Scores Normalize\"1 interlevedTable\n",
    "percentOfWorst =: bestSexTable % WorstScores idTable\n",
    "\n",
    "\n",
    "NB. Repulsion table\n",
    "QualitativeRepulsion =: =/~\n",
    "QuantitativeRepulsion =: 0 >. 6 %~ 6 - [: | [: -/~ Normalize\n",
    "repulsionSex =: QualitativeRepulsion itemSexes\n",
    "repulsionAge =: QuantitativeRepulsion itemAges NB. Repulsion is 0 for differences of six sigma or greater. Three sigma difference is 0.5 repulsion.\n",
    "repulsionRanks =: QuantitativeRepulsion itemRanks NB. Repulsion is 0 for differences of six sigma or greater. Three sigma difference is 0.5 repulsion.\n",
    "repulsionTable =: 3 %~ repulsionSex + repulsionAge + repulsionRanks\n",
    "\n",
    "NB. Field calculations\n",
    "PolygonRadius =: 3 : '% 2 * 1&o. o. % y' NB. http://www.mathopenref.com/polygonradius.html\n",
    "ringRadius =: PolygonRadius 1 { $ repulsionTable\n",
    "\n",
    "NB. Iteration Steps\n",
    "STEPSIZE =: 1 NB. Multiplier for the various field effects.\n",
    "RINGTHRESHHOLD =: 100 NB. Number of steps until the ring pulls with equal force to an identical mote\n",
    "CORETHRESHHOLD =: 200 NB. Number of steps until the CoreBump reaches full power\n",
    "MoteFieldPush =: 4 : '+/\"1 x * STEPSIZE * (%&*:&| * *) -/~ y' NB. Repulsion Weight (x) * STEPSIZE * inverse of magnitude squared * direction\n",
    "RingPull =: 4 : 'STEPSIZE * (x % RINGTHRESHHOLD) * (* y) * (* |) ringRadius - | y' NB. x is the step number which increases the power of the ring's pull\n",
    "CoreBump =: 4 : '+/\"1 STEPSIZE * (%&*:&*:&| * *) -/~ (1 >. CORETHRESHHOLD % x) * y' NB. core bump strongly repulses motes that are closer than 1 to each other\n",
    "\n",
    "NB. WhiteNoise =: 3 : 'j./ 0.01 * 0.5 - ? 0 $~ 2 , $ y' NB. White noise solves the problem of identical motes in identical positions\n",
    "WhiteNoise =: 3 : '0.01 * 0.5j0.5 - (? j. ?) 0\"0 y' NB. White noise solves the problem of identical motes in identical positions\n",
    "\n",
    "OneStep =: 4 : 'y + (repulsionTable MoteFieldPush y) + (x RingPull y) + (x CoreBump y) + (WhiteNoise y)' NB. y is the current possitions and x is the step number to pass to RingPull\n",
    "\n",
    "\n",
    "NB. Visualization\n",
    "NB. load 'plot'\n",
    "\n",
    "Mixer =: 4 : 0\n",
    "positions =: j./ ringRadius * 4 * 0.5 - ? 0 $~ 2,# repulsionTable NB. Initial positions\n",
    "for_j. 1 + i. x do.\n",
    "NB. 'marker' plot positions\n",
    "6!:3 (0.1) NB. Sleep for a tenth of a second. Fails in Unix but works in Windows. More precise delays are not reliable.\n",
    "positions =. j OneStep positions\n",
    "end.\n",
    "positions\n",
    ")\n"
   ]
  },
  {
   "cell_type": "code",
   "execution_count": 34,
   "metadata": {
    "collapsed": false
   },
   "outputs": [
    {
     "name": "stdout",
     "output_type": "stream",
     "text": [
      "_2.07013j_1.63194 0.474058j_2.59263 _2.51624j0.808845 2.44509j_0.90977 2.02505j1.68223 _0.488227j2.55511 1.7394j_1.96427 _1.70351j2.01174 2.59408j0.466046 _0.916763j_2.46845 0.829018j2.49783 _2.52563j_0.435013\n"
     ]
    }
   ],
   "source": [
    "100 Mixer ''"
   ]
  },
  {
   "cell_type": "code",
   "execution_count": null,
   "metadata": {
    "collapsed": true
   },
   "outputs": [],
   "source": []
  }
 ],
 "metadata": {
  "kernelspec": {
   "display_name": "J",
   "language": "J",
   "name": "jkernel"
  },
  "language_info": {
   "file_extension": "ijs",
   "mimetype": "text/x-J",
   "name": "J"
  }
 },
 "nbformat": 4,
 "nbformat_minor": 0
}
