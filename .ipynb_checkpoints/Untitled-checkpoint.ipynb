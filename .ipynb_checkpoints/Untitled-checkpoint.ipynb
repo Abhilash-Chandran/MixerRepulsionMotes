{
 "cells": [
  {
   "cell_type": "markdown",
   "metadata": {},
   "source": [
    "Ensure that every box contains a one-dimensional string."
   ]
  },
  {
   "cell_type": "code",
   "execution_count": 1,
   "metadata": {
    "collapsed": false
   },
   "outputs": [
    {
     "name": "stdout",
     "output_type": "stream",
     "text": [
      "1 1\n"
     ]
    }
   ],
   "source": [
    "(([:1:' '&,) ::0: * (1=#@$))@> 'aaa' ; 'bb'"
   ]
  },
  {
   "cell_type": "code",
   "execution_count": 2,
   "metadata": {
    "collapsed": false,
    "scrolled": true
   },
   "outputs": [
    {
     "name": "stdout",
     "output_type": "stream",
     "text": [
      "1 1 0 0\n"
     ]
    }
   ],
   "source": [
    "(([:1:' '&,) ::0: * (1=#@$))@> 'aaa' ; 'bb' ; (2 2 $ 'cccc') ; i. 4"
   ]
  },
  {
   "cell_type": "code",
   "execution_count": 3,
   "metadata": {
    "collapsed": false,
    "scrolled": true
   },
   "outputs": [
    {
     "name": "stdout",
     "output_type": "stream",
     "text": [
      "0\n"
     ]
    }
   ],
   "source": [
    "*./ (([:1:' '&,) ::0: * (1=#@$))@> 'aaa' ; 'bb' ; (2 2 $ 'cccc') ; i. 4"
   ]
  },
  {
   "cell_type": "code",
   "execution_count": 4,
   "metadata": {
    "collapsed": false,
    "scrolled": true
   },
   "outputs": [
    {
     "name": "stdout",
     "output_type": "stream",
     "text": [
      "1\n"
     ]
    }
   ],
   "source": [
    "*./ (([:1:' '&,) ::0: * (1=#@$))@> 'aaa' ; 'bb'"
   ]
  },
  {
   "cell_type": "code",
   "execution_count": 5,
   "metadata": {
    "collapsed": false
   },
   "outputs": [
    {
     "name": "stdout",
     "output_type": "stream",
     "text": [
      "1 1 1 0\n"
     ]
    }
   ],
   "source": [
    "(([:1:' '&,) ::0:)@> 'aaa' ; 'bb' ; (2 2 $ 'cccc') ; i. 4"
   ]
  },
  {
   "cell_type": "markdown",
   "metadata": {},
   "source": [
    "' '&, will fail on non-strings, and thus 1: ' '&, will also fail. :: 0: returns a 0 if the other verbs fails."
   ]
  },
  {
   "cell_type": "code",
   "execution_count": 7,
   "metadata": {
    "collapsed": false
   },
   "outputs": [
    {
     "name": "stdout",
     "output_type": "stream",
     "text": [
      "1 1 1 0\n"
     ]
    }
   ],
   "source": [
    "((1:' '&,) ::0:)@> 'aaa' ; 'bb' ; (2 2 $ 'cccc') ; i. 4"
   ]
  },
  {
   "cell_type": "code",
   "execution_count": 13,
   "metadata": {
    "collapsed": false
   },
   "outputs": [
    {
     "name": "stdout",
     "output_type": "stream",
     "text": [
      "+-----+-----+-----+---+----+-----------+-----------+\n",
      "|Lorem|ipsum|dolor|sit|amet|consectetur|adipisicing|\n",
      "+-----+-----+-----+---+----+-----------+-----------+\n"
     ]
    }
   ],
   "source": [
    "textfile =: cutopen 0 : 0\n",
    "Lorem\n",
    "ipsum\n",
    "dolor\n",
    "sit\n",
    "amet\n",
    "consectetur\n",
    "adipisicing\n",
    ")\n",
    "textfile"
   ]
  },
  {
   "cell_type": "code",
   "execution_count": 19,
   "metadata": {
    "collapsed": false
   },
   "outputs": [
    {
     "name": "stdout",
     "output_type": "stream",
     "text": [
      "35 36 37 24 32 82 83\n"
     ]
    }
   ],
   "source": [
    "(i.&# + (# * (# @ >))) textfile"
   ]
  },
  {
   "cell_type": "code",
   "execution_count": 15,
   "metadata": {
    "collapsed": false
   },
   "outputs": [
    {
     "name": "stdout",
     "output_type": "stream",
     "text": [
      "0 1 2 3 4 5 6\n"
     ]
    }
   ],
   "source": [
    "i. # textfile"
   ]
  },
  {
   "cell_type": "code",
   "execution_count": 16,
   "metadata": {
    "collapsed": false
   },
   "outputs": [
    {
     "name": "stdout",
     "output_type": "stream",
     "text": [
      "1\n"
     ]
    }
   ],
   "source": [
    "*./ (([:1:' '&,) ::0: * (1=#@$))@> textfile"
   ]
  },
  {
   "cell_type": "code",
   "execution_count": 21,
   "metadata": {
    "collapsed": false
   },
   "outputs": [
    {
     "name": "stdout",
     "output_type": "stream",
     "text": [
      "5 5 5 3 4 11 11\n"
     ]
    }
   ],
   "source": [
    "(# @ >) textfile"
   ]
  },
  {
   "cell_type": "code",
   "execution_count": 28,
   "metadata": {
    "collapsed": false
   },
   "outputs": [
    {
     "name": "stdout",
     "output_type": "stream",
     "text": [
      "+---+----+-----+-----+-----+-----------+-----------+\n",
      "|sit|amet|Lorem|ipsum|dolor|consectetur|adipisicing|\n",
      "+---+----+-----+-----+-----+-----------+-----------+\n"
     ]
    }
   ],
   "source": [
    "[ shortestFirst =: (] /: (i.&# + (# * (# @ >)))) textfile"
   ]
  },
  {
   "cell_type": "code",
   "execution_count": 29,
   "metadata": {
    "collapsed": false
   },
   "outputs": [
    {
     "name": "stdout",
     "output_type": "stream",
     "text": [
      "] /: i.&# + # * #@>\n"
     ]
    }
   ],
   "source": [
    "13 : '(] /: (i.&# + (# * (# @ >)))) y'"
   ]
  },
  {
   "cell_type": "code",
   "execution_count": 30,
   "metadata": {
    "collapsed": false
   },
   "outputs": [
    {
     "name": "stdout",
     "output_type": "stream",
     "text": [
      "+---+----+-----+-----+-----+-----------+-----------+\n",
      "|sit|amet|Lorem|ipsum|dolor|consectetur|adipisicing|\n",
      "+---+----+-----+-----+-----+-----------+-----------+\n"
     ]
    }
   ],
   "source": [
    "[ shortestFirst =: (] /: i.&# + # * #@>) textfile"
   ]
  },
  {
   "cell_type": "code",
   "execution_count": 32,
   "metadata": {
    "collapsed": false
   },
   "outputs": [
    {
     "name": "stdout",
     "output_type": "stream",
     "text": [
      "3 : 0\n",
      "y cutopen~ (' ',LF) {~ LF e. ,y\n",
      ":\n",
      "if. L. y do. y return. end.\n",
      "if. 1 < #$y do. <\"_1 y return. end.\n",
      "(<'') -.~ (y e.x) <;._2 y=. y,1{.x\n",
      ")\n"
     ]
    }
   ],
   "source": [
    "cutopen"
   ]
  },
  {
   "cell_type": "code",
   "execution_count": 47,
   "metadata": {
    "collapsed": false
   },
   "outputs": [
    {
     "name": "stdout",
     "output_type": "stream",
     "text": [
      "sit\n",
      "amet\n",
      "Lorem\n",
      "ipsum\n",
      "dolor\n",
      "consectetur\n",
      "adipisicing\n",
      "\n"
     ]
    }
   ],
   "source": [
    "; < S:0 (< LF) ,.~ shortestFirst"
   ]
  },
  {
   "cell_type": "code",
   "execution_count": 48,
   "metadata": {
    "collapsed": false
   },
   "outputs": [
    {
     "name": "stdout",
     "output_type": "stream",
     "text": [
      "[: ; [: <S:0 (<10{a.) ,.~ ]\n"
     ]
    }
   ],
   "source": [
    "13 : '; < S:0 (< LF) ,.~ y'"
   ]
  },
  {
   "cell_type": "code",
   "execution_count": 54,
   "metadata": {
    "collapsed": false
   },
   "outputs": [
    {
     "name": "stdout",
     "output_type": "stream",
     "text": [
      "sit\n",
      "amet\n",
      "Lorem\n",
      "ipsum\n",
      "dolor\n",
      "consectetur\n",
      "adipisicing\n",
      "\n"
     ]
    }
   ],
   "source": [
    "([: ; [: <S:0 (< LF) ,.~ ]) shortestFirst"
   ]
  },
  {
   "cell_type": "code",
   "execution_count": 56,
   "metadata": {
    "collapsed": false
   },
   "outputs": [
    {
     "name": "stdout",
     "output_type": "stream",
     "text": [
      "1 1 1 1 1 1 1\n"
     ]
    }
   ],
   "source": [
    "shortestFirst = cutopen ([: ; [: <S:0 (< LF) ,.~ ]) shortestFirst"
   ]
  },
  {
   "cell_type": "code",
   "execution_count": 60,
   "metadata": {
    "collapsed": false
   },
   "outputs": [
    {
     "name": "stdout",
     "output_type": "stream",
     "text": [
      "sit\n",
      "amet\n",
      "Lorem\n",
      "ipsum\n",
      "dolor\n",
      "consectetur\n",
      "adipisicing\n",
      "\n"
     ]
    }
   ],
   "source": [
    "(tapeshut =: [: ; [: <S:0 (< LF) ,.~ ]) (lengthsort =: ] /: i.&# + # * #@>) cutopen textfile"
   ]
  },
  {
   "cell_type": "code",
   "execution_count": 61,
   "metadata": {
    "collapsed": false
   },
   "outputs": [
    {
     "name": "stdout",
     "output_type": "stream",
     "text": [
      "sit\n",
      "amet\n",
      "Lorem\n",
      "ipsum\n",
      "dolor\n",
      "consectetur\n",
      "adipisicing\n",
      "\n"
     ]
    }
   ],
   "source": [
    "tapeshut lengthsort cutopen textfile"
   ]
  },
  {
   "cell_type": "code",
   "execution_count": 65,
   "metadata": {
    "collapsed": false
   },
   "outputs": [],
   "source": [
    "textbox =: cutopen :. tapeshut"
   ]
  },
  {
   "cell_type": "code",
   "execution_count": null,
   "metadata": {
    "collapsed": true
   },
   "outputs": [],
   "source": []
  }
 ],
 "metadata": {
  "kernelspec": {
   "display_name": "J",
   "language": "J",
   "name": "jkernel"
  },
  "language_info": {
   "file_extension": "ijs",
   "mimetype": "text/x-J",
   "name": "J"
  }
 },
 "nbformat": 4,
 "nbformat_minor": 0
}
